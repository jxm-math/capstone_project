{
 "cells": [
  {
   "cell_type": "markdown",
   "metadata": {
    "deletable": true,
    "editable": true
   },
   "source": [
    "We import the libraries for this notebook"
   ]
  },
  {
   "cell_type": "code",
   "execution_count": 1,
   "metadata": {
    "collapsed": true,
    "deletable": true,
    "editable": true
   },
   "outputs": [],
   "source": [
    "#NumPy - Scientific Computing with Python: http://www.numpy.org/\n",
    "import numpy as np\n",
    "\n",
    "#Pickle - Python object serialization: https://docs.python.org/2/library/pickle.html\n",
    "import pickle\n",
    "\n",
    "#SciKitLearn - Machine Learning in Python: http://scikit-learn.org/\n",
    "from sklearn.cluster import DBSCAN\n",
    "from sklearn import metrics\n",
    "\n",
    "from IPython import display"
   ]
  },
  {
   "cell_type": "markdown",
   "metadata": {
    "deletable": true,
    "editable": true
   },
   "source": [
    "We add a list of the expected clusters for each training video"
   ]
  },
  {
   "cell_type": "code",
   "execution_count": 2,
   "metadata": {
    "collapsed": true,
    "deletable": true,
    "editable": true
   },
   "outputs": [],
   "source": [
    "expected_clusters = [1,5,6,9,7,2,2,9,8]"
   ]
  },
  {
   "cell_type": "markdown",
   "metadata": {
    "deletable": true,
    "editable": true
   },
   "source": [
    "For each tuning parameter, we store the Sum of Squares Error"
   ]
  },
  {
   "cell_type": "code",
   "execution_count": 3,
   "metadata": {
    "collapsed": false,
    "deletable": true,
    "editable": true
   },
   "outputs": [
    {
     "name": "stdout",
     "output_type": "stream",
     "text": [
      "8\n",
      "9\n",
      "9\n",
      "[[   345    345    345    345    345    345    345    345    345    345]\n",
      " [136651  77234  20437   3967    205    351    345    345    345    345]\n",
      " [ 43208  22424  25643  18600  18427   6191   2980   1425    609    375]\n",
      " [ 14353   7068   5868   7701   8427   8540   7480   6133   4392   2774]\n",
      " [  4409   2896   2152   1841   1808   3375   3992   4243   4979   4689]\n",
      " [  1161   1595   1070    904   1064    743   1117   1153   1614   1946]\n",
      " [   651    907    376    483    462    514    446    523    883    585]\n",
      " [   570    157    367    419    359    406    494    257    370    445]\n",
      " [   329    142    275    220    179    226    414    355    221    292]\n",
      " [   226    132    126    257    172    205    208    300    300    174]]\n"
     ]
    }
   ],
   "source": [
    "results = np.zeros((10,10), dtype=np.int)\n",
    "for k in range(9):\n",
    "    data = pickle.load( open( 'data/numpy_arrays/training' + str(k) + '.npy', \"rb\" ) )\n",
    "    for i in range(10):\n",
    "        for j in range(10):\n",
    "            print(k)\n",
    "            print(i)\n",
    "            print(j)\n",
    "            print(results)\n",
    "            display.clear_output(wait=True)\n",
    "            db = DBSCAN(eps=2*(i+1), min_samples=40*(j+1)).fit(data)\n",
    "            labels = db.labels_\n",
    "            n_clusters_ = len(set(labels)) - (1 if -1 in labels else 0)\n",
    "            results[i,j] += (expected_clusters[k] - n_clusters_)**2"
   ]
  },
  {
   "cell_type": "code",
   "execution_count": null,
   "metadata": {
    "collapsed": false,
    "deletable": true,
    "editable": true
   },
   "outputs": [
    {
     "name": "stdout",
     "output_type": "stream",
     "text": [
      "8\n",
      "9\n",
      "9\n",
      "[[ 345  345  345  345  345  345  345  345  345  345]\n",
      " [ 345  345  345  345  345  345  345  345  345  345]\n",
      " [ 168  197  219  183  204  248  291  304  304  319]\n",
      " [1801  672  243  189  168  160  171  171  190  171]\n",
      " [4607 3708 3306 1652  920  600  511  373  191   96]\n",
      " [2810 3418 3942 4133 3011 2444 1729 1004  297  217]\n",
      " [ 753  905 1077 1632 2047 2744 3338 3210 2637 1967]\n",
      " [ 414  449  507  589  777 1016 1107 1249 1780 2074]\n",
      " [ 294  345  311  344  406  418  615  704  698  787]\n",
      " [ 230  231  280  296  347  285  299  239  438  499]]\n"
     ]
    }
   ],
   "source": [
    "results2 = np.zeros((10,10), dtype=np.int)\n",
    "for k in range(9):\n",
    "    data = pickle.load( open( 'data/numpy_arrays/training' + str(k) + '.npy', \"rb\" ) )\n",
    "    for i in range(10):\n",
    "        for j in range(10):\n",
    "            print(k)\n",
    "            print(i)\n",
    "            print(j)\n",
    "            print(results2)\n",
    "            display.clear_output(wait=True)\n",
    "            db = DBSCAN(eps=2*(i+1), min_samples=40*(j+1)+400).fit(data)\n",
    "            labels = db.labels_\n",
    "            n_clusters_ = len(set(labels)) - (1 if -1 in labels else 0)\n",
    "            results2[i,j] += (expected_clusters[k] - n_clusters_)**2"
   ]
  },
  {
   "cell_type": "markdown",
   "metadata": {
    "collapsed": true,
    "deletable": true,
    "editable": true
   },
   "source": [
    "The best local minimum is **`(eps=6, min_samples=400)`**"
   ]
  }
 ],
 "metadata": {
  "kernelspec": {
   "display_name": "Python 2",
   "language": "python",
   "name": "python2"
  },
  "language_info": {
   "codemirror_mode": {
    "name": "ipython",
    "version": 2
   },
   "file_extension": ".py",
   "mimetype": "text/x-python",
   "name": "python",
   "nbconvert_exporter": "python",
   "pygments_lexer": "ipython2",
   "version": "2.7.9"
  }
 },
 "nbformat": 4,
 "nbformat_minor": 2
}
