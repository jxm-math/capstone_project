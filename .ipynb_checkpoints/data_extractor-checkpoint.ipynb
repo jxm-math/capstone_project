{
 "cells": [
  {
   "cell_type": "markdown",
   "metadata": {},
   "source": [
    "We read our video (building a generator)"
   ]
  },
  {
   "cell_type": "code",
   "execution_count": 1,
   "metadata": {
    "collapsed": true
   },
   "outputs": [],
   "source": [
    "#SciKit-Video - Video Processing in Python: http://www.scikit-video.org\n",
    "import skvideo.io"
   ]
  },
  {
   "cell_type": "code",
   "execution_count": 2,
   "metadata": {
    "collapsed": false,
    "deletable": true,
    "editable": true
   },
   "outputs": [],
   "source": [
    "videoarray = skvideo.io.vreader('data/processed_videos/training1.avi')"
   ]
  },
  {
   "cell_type": "markdown",
   "metadata": {},
   "source": [
    "We may access single frames"
   ]
  },
  {
   "cell_type": "code",
   "execution_count": 3,
   "metadata": {
    "collapsed": true
   },
   "outputs": [],
   "source": [
    "#Itertools - Efficient Looping in Python: https://docs.python.org/2/library/itertools.html\n",
    "from itertools import islice"
   ]
  },
  {
   "cell_type": "code",
   "execution_count": 4,
   "metadata": {
    "collapsed": false
   },
   "outputs": [
    {
     "name": "stdout",
     "output_type": "stream",
     "text": [
      "Populating the interactive namespace from numpy and matplotlib\n"
     ]
    }
   ],
   "source": [
    "#Matplotlib - Python plotting: http://matplotlib.org/\n",
    "%matplotlib inline\n",
    "%pylab inline\n",
    "import matplotlib.pyplot as plt\n",
    "import matplotlib.animation as animation\n",
    "import matplotlib.cm"
   ]
  },
  {
   "cell_type": "code",
   "execution_count": 5,
   "metadata": {
    "collapsed": false,
    "deletable": true,
    "editable": true
   },
   "outputs": [
    {
     "data": {
      "text/plain": [
       "<matplotlib.image.AxesImage at 0x7f7e89978dd0>"
      ]
     },
     "execution_count": 5,
     "metadata": {},
     "output_type": "execute_result"
    },
    {
     "data": {
      "image/png": "[encoded data removed]",
      "text/plain": [
       "<matplotlib.figure.Figure at 0x7f7e8bce8850>"
      ]
     },
     "metadata": {},
     "output_type": "display_data"
    }
   ],
   "source": [
    "img = next(islice(videoarray, 50, None), None)\n",
    "plt.imshow(img)"
   ]
  },
  {
   "cell_type": "code",
   "execution_count": 6,
   "metadata": {
    "collapsed": false
   },
   "outputs": [
    {
     "data": {
      "text/plain": [
       "(720, 1280, 3)"
      ]
     },
     "execution_count": 6,
     "metadata": {},
     "output_type": "execute_result"
    }
   ],
   "source": [
    "img.shape"
   ]
  },
  {
   "cell_type": "markdown",
   "metadata": {},
   "source": [
    "To improve the quality of the frame and strength the clusters, we apply two `skimage` methods: `dilation` (to dilate the existing points) and `erosion` (to erase isolated white points)"
   ]
  },
  {
   "cell_type": "code",
   "execution_count": 7,
   "metadata": {
    "collapsed": true
   },
   "outputs": [],
   "source": [
    "#SciKit-Image - Image Processing in Python: http://scikit-image.org/\n",
    "import skimage.morphology as mph\n",
    "import skimage.transform as trf"
   ]
  },
  {
   "cell_type": "code",
   "execution_count": 8,
   "metadata": {
    "collapsed": false,
    "deletable": true,
    "editable": true
   },
   "outputs": [
    {
     "data": {
      "text/plain": [
       "<matplotlib.image.AxesImage at 0x7f7e7d6e8810>"
      ]
     },
     "execution_count": 8,
     "metadata": {},
     "output_type": "execute_result"
    },
    {
     "data": {
      "image/png": "[encoded data removed]",
      "text/plain": [
       "<matplotlib.figure.Figure at 0x7f7e8ba41410>"
      ]
     },
     "metadata": {},
     "output_type": "display_data"
    }
   ],
   "source": [
    "img2 = img.copy()\n",
    "for i in np.arange(8):\n",
    "    img2 = mph.dilation(img2)\n",
    "for i in np.arange(8):\n",
    "    img2 = mph.erosion(img2)\n",
    "plt.imshow(img2)"
   ]
  },
  {
   "cell_type": "markdown",
   "metadata": {},
   "source": [
    "We may work with just one layer"
   ]
  },
  {
   "cell_type": "code",
   "execution_count": 9,
   "metadata": {
    "collapsed": false,
    "deletable": true,
    "editable": true
   },
   "outputs": [
    {
     "data": {
      "text/plain": [
       "<matplotlib.image.AxesImage at 0x7f7e7d63a990>"
      ]
     },
     "execution_count": 9,
     "metadata": {},
     "output_type": "execute_result"
    },
    {
     "data": {
      "image/png": "[encoded data removed]",
      "text/plain": [
       "<matplotlib.figure.Figure at 0x7f7eac518f50>"
      ]
     },
     "metadata": {},
     "output_type": "display_data"
    }
   ],
   "source": [
    "img3 = img2[:,:,0]\n",
    "plt.imshow(img3)"
   ]
  },
  {
   "cell_type": "markdown",
   "metadata": {},
   "source": [
    "We resize it to reduce our data"
   ]
  },
  {
   "cell_type": "code",
   "execution_count": 10,
   "metadata": {
    "collapsed": false,
    "deletable": true,
    "editable": true
   },
   "outputs": [
    {
     "data": {
      "text/plain": [
       "<matplotlib.image.AxesImage at 0x7f7e7d57ae50>"
      ]
     },
     "execution_count": 10,
     "metadata": {},
     "output_type": "execute_result"
    },
    {
     "data": {
      "image/png": "[encoded data removed]",
      "text/plain": [
       "<matplotlib.figure.Figure at 0x7f7e7d6bce50>"
      ]
     },
     "metadata": {},
     "output_type": "display_data"
    }
   ],
   "source": [
    "img4 = trf.rescale(img3, 0.1)\n",
    "plt.imshow(img4)"
   ]
  },
  {
   "cell_type": "code",
   "execution_count": 11,
   "metadata": {
    "collapsed": false,
    "deletable": true,
    "editable": true
   },
   "outputs": [
    {
     "data": {
      "text/plain": [
       "array([[ 0.,  0.,  0., ...,  0.,  0.,  0.],\n",
       "       [ 0.,  0.,  0., ...,  0.,  0.,  0.],\n",
       "       [ 0.,  0.,  0., ...,  0.,  0.,  0.],\n",
       "       ..., \n",
       "       [ 0.,  0.,  0., ...,  0.,  0.,  0.],\n",
       "       [ 0.,  0.,  0., ...,  0.,  0.,  0.],\n",
       "       [ 0.,  0.,  0., ...,  0.,  0.,  0.]])"
      ]
     },
     "execution_count": 11,
     "metadata": {},
     "output_type": "execute_result"
    }
   ],
   "source": [
    "img4"
   ]
  },
  {
   "cell_type": "markdown",
   "metadata": {},
   "source": [
    "With the help of some code, we get the coordinates of the 'white' points"
   ]
  },
  {
   "cell_type": "code",
   "execution_count": 12,
   "metadata": {
    "collapsed": false,
    "deletable": true,
    "editable": true
   },
   "outputs": [],
   "source": [
    "X = np.transpose(np.where(img4 > 0.1))"
   ]
  },
  {
   "cell_type": "code",
   "execution_count": 13,
   "metadata": {
    "collapsed": false,
    "deletable": true,
    "editable": true
   },
   "outputs": [
    {
     "data": {
      "text/plain": [
       "array([[ 30,  98],\n",
       "       [ 49, 105],\n",
       "       [ 49, 106],\n",
       "       [ 49, 107],\n",
       "       [ 49, 108],\n",
       "       [ 49, 109],\n",
       "       [ 49, 110],\n",
       "       [ 50, 103],\n",
       "       [ 50, 104],\n",
       "       [ 50, 105],\n",
       "       [ 50, 106],\n",
       "       [ 50, 107],\n",
       "       [ 50, 108],\n",
       "       [ 50, 109],\n",
       "       [ 50, 110],\n",
       "       [ 51, 103],\n",
       "       [ 51, 104],\n",
       "       [ 51, 105],\n",
       "       [ 51, 106],\n",
       "       [ 51, 107],\n",
       "       [ 51, 108],\n",
       "       [ 51, 109],\n",
       "       [ 51, 110],\n",
       "       [ 52, 102],\n",
       "       [ 52, 103],\n",
       "       [ 52, 104],\n",
       "       [ 52, 105],\n",
       "       [ 52, 106],\n",
       "       [ 52, 107],\n",
       "       [ 52, 108],\n",
       "       [ 52, 109],\n",
       "       [ 52, 110],\n",
       "       [ 53, 101],\n",
       "       [ 53, 102],\n",
       "       [ 53, 103],\n",
       "       [ 53, 104],\n",
       "       [ 53, 105],\n",
       "       [ 53, 106],\n",
       "       [ 53, 107],\n",
       "       [ 53, 108],\n",
       "       [ 53, 109],\n",
       "       [ 53, 110],\n",
       "       [ 54, 101],\n",
       "       [ 54, 102],\n",
       "       [ 54, 103],\n",
       "       [ 54, 104],\n",
       "       [ 54, 105],\n",
       "       [ 54, 106],\n",
       "       [ 54, 107],\n",
       "       [ 54, 108],\n",
       "       [ 54, 109],\n",
       "       [ 55, 101],\n",
       "       [ 55, 102],\n",
       "       [ 55, 103],\n",
       "       [ 55, 104],\n",
       "       [ 55, 105],\n",
       "       [ 55, 106],\n",
       "       [ 55, 107],\n",
       "       [ 56,   9],\n",
       "       [ 56, 101],\n",
       "       [ 56, 102],\n",
       "       [ 56, 103],\n",
       "       [ 56, 104],\n",
       "       [ 56, 105],\n",
       "       [ 56, 106],\n",
       "       [ 56, 107],\n",
       "       [ 58,  13],\n",
       "       [ 67,  77],\n",
       "       [ 67,  78],\n",
       "       [ 67,  79],\n",
       "       [ 67,  80],\n",
       "       [ 67,  81],\n",
       "       [ 68,  73],\n",
       "       [ 68,  74],\n",
       "       [ 68,  75],\n",
       "       [ 68,  76],\n",
       "       [ 68,  77],\n",
       "       [ 68,  78],\n",
       "       [ 68,  79],\n",
       "       [ 68,  80],\n",
       "       [ 68,  81],\n",
       "       [ 68,  82],\n",
       "       [ 69,  72],\n",
       "       [ 69,  73],\n",
       "       [ 69,  74],\n",
       "       [ 69,  75],\n",
       "       [ 69,  76],\n",
       "       [ 69,  77],\n",
       "       [ 69,  78],\n",
       "       [ 69,  79],\n",
       "       [ 69,  80],\n",
       "       [ 69,  81],\n",
       "       [ 69,  82],\n",
       "       [ 70,  70],\n",
       "       [ 70,  71],\n",
       "       [ 70,  72],\n",
       "       [ 70,  73],\n",
       "       [ 70,  74],\n",
       "       [ 70,  75],\n",
       "       [ 70,  76],\n",
       "       [ 70,  77],\n",
       "       [ 70,  78],\n",
       "       [ 70,  79],\n",
       "       [ 70,  80],\n",
       "       [ 70,  81],\n",
       "       [ 70,  82],\n",
       "       [ 71,  70],\n",
       "       [ 71,  71],\n",
       "       [ 71,  72],\n",
       "       [ 71,  73],\n",
       "       [ 71,  74],\n",
       "       [ 71,  75],\n",
       "       [ 71,  76],\n",
       "       [ 71,  77],\n",
       "       [ 71,  78],\n",
       "       [ 71,  80],\n",
       "       [ 71,  81],\n",
       "       [ 71,  82]])"
      ]
     },
     "execution_count": 13,
     "metadata": {},
     "output_type": "execute_result"
    }
   ],
   "source": [
    "X"
   ]
  },
  {
   "cell_type": "code",
   "execution_count": 14,
   "metadata": {
    "collapsed": false,
    "deletable": true,
    "editable": true
   },
   "outputs": [
    {
     "data": {
      "text/plain": [
       "(118, 2)"
      ]
     },
     "execution_count": 14,
     "metadata": {},
     "output_type": "execute_result"
    }
   ],
   "source": [
    "X.shape"
   ]
  },
  {
   "cell_type": "markdown",
   "metadata": {},
   "source": [
    "And last but not least, we make this process for all the videos. We store the final data in the folder `data/numpy_arrays`"
   ]
  },
  {
   "cell_type": "code",
   "execution_count": 15,
   "metadata": {
    "collapsed": true
   },
   "outputs": [],
   "source": [
    "#Pickle - Python object serialization: https://docs.python.org/2/library/pickle.html\n",
    "import pickle"
   ]
  },
  {
   "cell_type": "code",
   "execution_count": 16,
   "metadata": {
    "collapsed": true
   },
   "outputs": [],
   "source": [
    "from IPython import display"
   ]
  },
  {
   "cell_type": "code",
   "execution_count": 17,
   "metadata": {
    "collapsed": false
   },
   "outputs": [
    {
     "ename": "KeyboardInterrupt",
     "evalue": "",
     "output_type": "error",
     "traceback": [
      "\u001b[0;31m---------------------------------------------------------------------------\u001b[0m",
      "\u001b[0;31mKeyboardInterrupt\u001b[0m                         Traceback (most recent call last)",
      "\u001b[0;32m<ipython-input-17-f9a94ad1d170>\u001b[0m in \u001b[0;36m<module>\u001b[0;34m()\u001b[0m\n\u001b[1;32m      6\u001b[0m         \u001b[0mimg\u001b[0m \u001b[0;34m=\u001b[0m \u001b[0mframe\u001b[0m\u001b[0;34m.\u001b[0m\u001b[0mcopy\u001b[0m\u001b[0;34m(\u001b[0m\u001b[0;34m)\u001b[0m\u001b[0;34m\u001b[0m\u001b[0m\n\u001b[1;32m      7\u001b[0m         \u001b[0;32mfor\u001b[0m \u001b[0mi\u001b[0m \u001b[0;32min\u001b[0m \u001b[0mnp\u001b[0m\u001b[0;34m.\u001b[0m\u001b[0marange\u001b[0m\u001b[0;34m(\u001b[0m\u001b[0;36m8\u001b[0m\u001b[0;34m)\u001b[0m\u001b[0;34m:\u001b[0m\u001b[0;34m\u001b[0m\u001b[0m\n\u001b[0;32m----> 8\u001b[0;31m             \u001b[0mimg\u001b[0m \u001b[0;34m=\u001b[0m \u001b[0mmph\u001b[0m\u001b[0;34m.\u001b[0m\u001b[0mdilation\u001b[0m\u001b[0;34m(\u001b[0m\u001b[0mimg\u001b[0m\u001b[0;34m)\u001b[0m\u001b[0;34m\u001b[0m\u001b[0m\n\u001b[0m\u001b[1;32m      9\u001b[0m         \u001b[0;32mfor\u001b[0m \u001b[0mi\u001b[0m \u001b[0;32min\u001b[0m \u001b[0mnp\u001b[0m\u001b[0;34m.\u001b[0m\u001b[0marange\u001b[0m\u001b[0;34m(\u001b[0m\u001b[0;36m8\u001b[0m\u001b[0;34m)\u001b[0m\u001b[0;34m:\u001b[0m\u001b[0;34m\u001b[0m\u001b[0m\n\u001b[1;32m     10\u001b[0m             \u001b[0mimg\u001b[0m \u001b[0;34m=\u001b[0m \u001b[0mmph\u001b[0m\u001b[0;34m.\u001b[0m\u001b[0merosion\u001b[0m\u001b[0;34m(\u001b[0m\u001b[0mimg\u001b[0m\u001b[0;34m)\u001b[0m\u001b[0;34m\u001b[0m\u001b[0m\n",
      "\u001b[0;32m/usr/local/lib/python2.7/dist-packages/skimage/morphology/misc.pyc\u001b[0m in \u001b[0;36mfunc_out\u001b[0;34m(image, selem, *args, **kwargs)\u001b[0m\n\u001b[1;32m     35\u001b[0m         \u001b[0;32mif\u001b[0m \u001b[0mselem\u001b[0m \u001b[0;32mis\u001b[0m \u001b[0mNone\u001b[0m\u001b[0;34m:\u001b[0m\u001b[0;34m\u001b[0m\u001b[0m\n\u001b[1;32m     36\u001b[0m             \u001b[0mselem\u001b[0m \u001b[0;34m=\u001b[0m \u001b[0m_default_selem\u001b[0m\u001b[0;34m(\u001b[0m\u001b[0mimage\u001b[0m\u001b[0;34m.\u001b[0m\u001b[0mndim\u001b[0m\u001b[0;34m)\u001b[0m\u001b[0;34m\u001b[0m\u001b[0m\n\u001b[0;32m---> 37\u001b[0;31m         \u001b[0;32mreturn\u001b[0m \u001b[0mfunc\u001b[0m\u001b[0;34m(\u001b[0m\u001b[0mimage\u001b[0m\u001b[0;34m,\u001b[0m \u001b[0mselem\u001b[0m\u001b[0;34m=\u001b[0m\u001b[0mselem\u001b[0m\u001b[0;34m,\u001b[0m \u001b[0;34m*\u001b[0m\u001b[0margs\u001b[0m\u001b[0;34m,\u001b[0m \u001b[0;34m**\u001b[0m\u001b[0mkwargs\u001b[0m\u001b[0;34m)\u001b[0m\u001b[0;34m\u001b[0m\u001b[0m\n\u001b[0m\u001b[1;32m     38\u001b[0m \u001b[0;34m\u001b[0m\u001b[0m\n\u001b[1;32m     39\u001b[0m     \u001b[0;32mreturn\u001b[0m \u001b[0mfunc_out\u001b[0m\u001b[0;34m\u001b[0m\u001b[0m\n",
      "\u001b[0;32m/usr/local/lib/python2.7/dist-packages/skimage/morphology/grey.pyc\u001b[0m in \u001b[0;36mdilation\u001b[0;34m(image, selem, out, shift_x, shift_y)\u001b[0m\n\u001b[1;32m    249\u001b[0m     \u001b[0;32mif\u001b[0m \u001b[0mout\u001b[0m \u001b[0;32mis\u001b[0m \u001b[0mNone\u001b[0m\u001b[0;34m:\u001b[0m\u001b[0;34m\u001b[0m\u001b[0m\n\u001b[1;32m    250\u001b[0m         \u001b[0mout\u001b[0m \u001b[0;34m=\u001b[0m \u001b[0mnp\u001b[0m\u001b[0;34m.\u001b[0m\u001b[0mempty_like\u001b[0m\u001b[0;34m(\u001b[0m\u001b[0mimage\u001b[0m\u001b[0;34m)\u001b[0m\u001b[0;34m\u001b[0m\u001b[0m\n\u001b[0;32m--> 251\u001b[0;31m     \u001b[0mndi\u001b[0m\u001b[0;34m.\u001b[0m\u001b[0mgrey_dilation\u001b[0m\u001b[0;34m(\u001b[0m\u001b[0mimage\u001b[0m\u001b[0;34m,\u001b[0m \u001b[0mfootprint\u001b[0m\u001b[0;34m=\u001b[0m\u001b[0mselem\u001b[0m\u001b[0;34m,\u001b[0m \u001b[0moutput\u001b[0m\u001b[0;34m=\u001b[0m\u001b[0mout\u001b[0m\u001b[0;34m)\u001b[0m\u001b[0;34m\u001b[0m\u001b[0m\n\u001b[0m\u001b[1;32m    252\u001b[0m     \u001b[0;32mreturn\u001b[0m \u001b[0mout\u001b[0m\u001b[0;34m\u001b[0m\u001b[0m\n\u001b[1;32m    253\u001b[0m \u001b[0;34m\u001b[0m\u001b[0m\n",
      "\u001b[0;32m/usr/local/lib/python2.7/dist-packages/scipy/ndimage/morphology.pyc\u001b[0m in \u001b[0;36mgrey_dilation\u001b[0;34m(input, size, footprint, structure, output, mode, cval, origin)\u001b[0m\n\u001b[1;32m   1315\u001b[0m \u001b[0;34m\u001b[0m\u001b[0m\n\u001b[1;32m   1316\u001b[0m     return filters._min_or_max_filter(input, size, footprint, structure,\n\u001b[0;32m-> 1317\u001b[0;31m                                       output, mode, cval, origin, 0)\n\u001b[0m\u001b[1;32m   1318\u001b[0m \u001b[0;34m\u001b[0m\u001b[0m\n\u001b[1;32m   1319\u001b[0m \u001b[0;34m\u001b[0m\u001b[0m\n",
      "\u001b[0;32m/usr/local/lib/python2.7/dist-packages/scipy/ndimage/filters.pyc\u001b[0m in \u001b[0;36m_min_or_max_filter\u001b[0;34m(input, size, footprint, structure, output, mode, cval, origin, minimum)\u001b[0m\n\u001b[1;32m    989\u001b[0m         \u001b[0mmode\u001b[0m \u001b[0;34m=\u001b[0m \u001b[0m_ni_support\u001b[0m\u001b[0;34m.\u001b[0m\u001b[0m_extend_mode_to_code\u001b[0m\u001b[0;34m(\u001b[0m\u001b[0mmode\u001b[0m\u001b[0;34m)\u001b[0m\u001b[0;34m\u001b[0m\u001b[0m\n\u001b[1;32m    990\u001b[0m         _nd_image.min_or_max_filter(input, footprint, structure, output,\n\u001b[0;32m--> 991\u001b[0;31m                                     mode, cval, origins, minimum)\n\u001b[0m\u001b[1;32m    992\u001b[0m     \u001b[0;32mreturn\u001b[0m \u001b[0mreturn_value\u001b[0m\u001b[0;34m\u001b[0m\u001b[0m\n\u001b[1;32m    993\u001b[0m \u001b[0;34m\u001b[0m\u001b[0m\n",
      "\u001b[0;31mKeyboardInterrupt\u001b[0m: "
     ]
    }
   ],
   "source": [
    "for k in range(9):\n",
    "    videoarray = skvideo.io.vreader('data/processed_videos/training' + str(k) + '.avi')\n",
    "    result = np.empty([0, 3], dtype=int)\n",
    "    t = 0\n",
    "    for frame in videoarray:\n",
    "        img = frame.copy()\n",
    "        for i in np.arange(8):\n",
    "            img = mph.dilation(img)\n",
    "        for i in np.arange(8):\n",
    "            img = mph.erosion(img)\n",
    "        X = np.transpose(np.where(trf.rescale(img[:,:,0], 0.1) > 0.1))\n",
    "        if t > 3:\n",
    "            result = np.append(result, np.insert(X, 0, t, axis=1), axis=0)\n",
    "        t += 1     \n",
    "        print(k)\n",
    "        print(t)\n",
    "        display.clear_output(wait=True)\n",
    "    pickle.dump(result, open('data/numpy_arrays/training' + str(k) + '.npy', \"wb\"))"
   ]
  }
 ],
 "metadata": {
  "kernelspec": {
   "display_name": "Python 2",
   "language": "python",
   "name": "python2"
  },
  "language_info": {
   "codemirror_mode": {
    "name": "ipython",
    "version": 2
   },
   "file_extension": ".py",
   "mimetype": "text/x-python",
   "name": "python",
   "nbconvert_exporter": "python",
   "pygments_lexer": "ipython2",
   "version": "2.7.9"
  }
 },
 "nbformat": 4,
 "nbformat_minor": 2
}
