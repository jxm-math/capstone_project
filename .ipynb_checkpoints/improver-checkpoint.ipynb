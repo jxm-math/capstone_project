{
 "cells": [
  {
   "cell_type": "code",
   "execution_count": null,
   "metadata": {
    "collapsed": false
   },
   "outputs": [],
   "source": [
    "# Import libraries necessary for this project\n",
    "\n",
    "#NumPy - Scientific Computing with Python: http://www.numpy.org/\n",
    "import numpy as np\n",
    "\n",
    "#Matplotlib - Python plotting: http://matplotlib.org/\n",
    "%matplotlib inline\n",
    "import matplotlib.pyplot as plt\n",
    "#import matplotlib.animation as animation\n",
    "#import matplotlib.cm\n",
    "\n",
    "#SciKit-Image - Image Processing in Python: http://scikit-image.org/\n",
    "#import skimage.data\n",
    "#import skimage.filters\n",
    "#import skimage.io\n",
    "import skimage.morphology\n",
    "#import skimage.color\n",
    "\n",
    "#SciKit-Video - Video Processing in Python: http://www.scikit-video.org\n",
    "import skvideo.io\n",
    "\n",
    "#Itertools - Efficient Looping in Python: https://docs.python.org/2/library/itertools.html\n",
    "from itertools import islice\n"
   ]
  },
  {
   "cell_type": "markdown",
   "metadata": {},
   "source": [
    "We read a exploratoy video"
   ]
  },
  {
   "cell_type": "code",
   "execution_count": null,
   "metadata": {
    "collapsed": false
   },
   "outputs": [],
   "source": [
    "vid_exp = skvideo.io.vreader('data/processed_videos/video1.avi')"
   ]
  },
  {
   "cell_type": "markdown",
   "metadata": {},
   "source": [
    "We may access a single frame"
   ]
  },
  {
   "cell_type": "code",
   "execution_count": null,
   "metadata": {
    "collapsed": false
   },
   "outputs": [],
   "source": [
    "img = next(islice(vid_exp, 100, None), None)\n",
    "img.shape"
   ]
  },
  {
   "cell_type": "code",
   "execution_count": null,
   "metadata": {
    "collapsed": false
   },
   "outputs": [],
   "source": [
    "plt.imshow(img)"
   ]
  },
  {
   "cell_type": "markdown",
   "metadata": {},
   "source": [
    "To improve the quality of the frame and strength the clusters, we apply two `skimage` methods: `erosion` (to erase isolated white points)"
   ]
  },
  {
   "cell_type": "code",
   "execution_count": null,
   "metadata": {
    "collapsed": false
   },
   "outputs": [],
   "source": [
    "img2 = skimage.morphology.erosion(img)\n",
    "plt.imshow(img2)"
   ]
  },
  {
   "cell_type": "markdown",
   "metadata": {},
   "source": [
    "and `dilation` (to dilate the remaining points)"
   ]
  },
  {
   "cell_type": "code",
   "execution_count": null,
   "metadata": {
    "collapsed": false
   },
   "outputs": [],
   "source": [
    "img3 = skimage.morphology.dilation(img2)\n",
    "plt.imshow(img3)"
   ]
  },
  {
   "cell_type": "markdown",
   "metadata": {},
   "source": [
    "With the help of a loop, we write an improved `.avi` file"
   ]
  },
  {
   "cell_type": "code",
   "execution_count": null,
   "metadata": {
    "collapsed": false
   },
   "outputs": [],
   "source": [
    "writer = skvideo.io.FFmpegWriter('data/improved_videos/video1.avi')\n",
    "for frame in vid_exp:\n",
    "    frame2 = skimage.morphology.erosion(frame)\n",
    "    frame3 = skimage.morphology.dilation(frame2)\n",
    "    writer.writeFrame(frame3)\n",
    "writer.close()"
   ]
  },
  {
   "cell_type": "markdown",
   "metadata": {},
   "source": [
    "And now we do the same for our training videos:"
   ]
  },
  {
   "cell_type": "code",
   "execution_count": null,
   "metadata": {
    "collapsed": false
   },
   "outputs": [],
   "source": [
    "vid_exp = skvideo.io.vreader('data/processed_videos/training0.avi')\n",
    "writer = skvideo.io.FFmpegWriter('data/improved_videos/training0.avi')\n",
    "for frame in vid_exp:\n",
    "    frame2 = skimage.morphology.erosion(frame)\n",
    "    frame3 = skimage.morphology.dilation(frame2)\n",
    "    writer.writeFrame(frame3)\n",
    "writer.close()"
   ]
  },
  {
   "cell_type": "code",
   "execution_count": null,
   "metadata": {
    "collapsed": true
   },
   "outputs": [],
   "source": [
    "vid_exp = skvideo.io.vreader('data/processed_videos/training1.avi')\n",
    "writer = skvideo.io.FFmpegWriter('data/improved_videos/training1.avi')\n",
    "for frame in vid_exp:\n",
    "    frame2 = skimage.morphology.erosion(frame)\n",
    "    frame3 = skimage.morphology.dilation(frame2)\n",
    "    writer.writeFrame(frame3)\n",
    "writer.close()"
   ]
  },
  {
   "cell_type": "code",
   "execution_count": null,
   "metadata": {
    "collapsed": true
   },
   "outputs": [],
   "source": [
    "vid_exp = skvideo.io.vreader('data/processed_videos/training2.avi')\n",
    "writer = skvideo.io.FFmpegWriter('data/improved_videos/training2.avi')\n",
    "for frame in vid_exp:\n",
    "    frame2 = skimage.morphology.erosion(frame)\n",
    "    frame3 = skimage.morphology.dilation(frame2)\n",
    "    writer.writeFrame(frame3)\n",
    "writer.close()"
   ]
  },
  {
   "cell_type": "code",
   "execution_count": null,
   "metadata": {
    "collapsed": true
   },
   "outputs": [],
   "source": [
    "vid_exp = skvideo.io.vreader('data/processed_videos/training3.avi')\n",
    "writer = skvideo.io.FFmpegWriter('data/improved_videos/training3.avi')\n",
    "for frame in vid_exp:\n",
    "    frame2 = skimage.morphology.erosion(frame)\n",
    "    frame3 = skimage.morphology.dilation(frame2)\n",
    "    writer.writeFrame(frame3)\n",
    "writer.close()"
   ]
  },
  {
   "cell_type": "code",
   "execution_count": null,
   "metadata": {
    "collapsed": false
   },
   "outputs": [],
   "source": [
    "vid_exp = skvideo.io.vreader('data/processed_videos/training4.avi')\n",
    "writer = skvideo.io.FFmpegWriter('data/improved_videos/training4.avi')\n",
    "for frame in vid_exp:\n",
    "    frame2 = skimage.morphology.erosion(frame)\n",
    "    frame3 = skimage.morphology.dilation(frame2)\n",
    "    writer.writeFrame(frame3)\n",
    "writer.close()"
   ]
  },
  {
   "cell_type": "code",
   "execution_count": null,
   "metadata": {
    "collapsed": true
   },
   "outputs": [],
   "source": [
    "vid_exp = skvideo.io.vreader('data/processed_videos/training5.avi')\n",
    "writer = skvideo.io.FFmpegWriter('data/improved_videos/training5.avi')\n",
    "for frame in vid_exp:\n",
    "    frame2 = skimage.morphology.erosion(frame)\n",
    "    frame3 = skimage.morphology.dilation(frame2)\n",
    "    writer.writeFrame(frame3)\n",
    "writer.close()"
   ]
  },
  {
   "cell_type": "code",
   "execution_count": null,
   "metadata": {
    "collapsed": true
   },
   "outputs": [],
   "source": [
    "vid_exp = skvideo.io.vreader('data/processed_videos/training6.avi')\n",
    "writer = skvideo.io.FFmpegWriter('data/improved_videos/training6.avi')\n",
    "for frame in vid_exp:\n",
    "    frame2 = skimage.morphology.erosion(frame)\n",
    "    frame3 = skimage.morphology.dilation(frame2)\n",
    "    writer.writeFrame(frame3)\n",
    "writer.close()"
   ]
  },
  {
   "cell_type": "code",
   "execution_count": null,
   "metadata": {
    "collapsed": true
   },
   "outputs": [],
   "source": [
    "vid_exp = skvideo.io.vreader('data/processed_videos/training7.avi')\n",
    "writer = skvideo.io.FFmpegWriter('data/improved_videos/training7.avi')\n",
    "for frame in vid_exp:\n",
    "    frame2 = skimage.morphology.erosion(frame)\n",
    "    frame3 = skimage.morphology.dilation(frame2)\n",
    "    writer.writeFrame(frame3)\n",
    "writer.close()"
   ]
  },
  {
   "cell_type": "code",
   "execution_count": null,
   "metadata": {
    "collapsed": false
   },
   "outputs": [],
   "source": [
    "vid_exp = skvideo.io.vreader('data/processed_videos/training8.avi')\n",
    "writer = skvideo.io.FFmpegWriter('data/improved_videos/training8.avi')\n",
    "for frame in vid_exp:\n",
    "    frame2 = skimage.morphology.erosion(frame)\n",
    "    frame3 = skimage.morphology.dilation(frame2)\n",
    "    writer.writeFrame(frame3)\n",
    "writer.close()"
   ]
  }
 ],
 "metadata": {
  "kernelspec": {
   "display_name": "Python 2",
   "language": "python",
   "name": "python2"
  },
  "language_info": {
   "codemirror_mode": {
    "name": "ipython",
    "version": 2
   },
   "file_extension": ".py",
   "mimetype": "text/x-python",
   "name": "python",
   "nbconvert_exporter": "python",
   "pygments_lexer": "ipython2",
   "version": "2.7.9"
  }
 },
 "nbformat": 4,
 "nbformat_minor": 2
}
