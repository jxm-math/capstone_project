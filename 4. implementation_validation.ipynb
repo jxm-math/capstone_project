{
 "cells": [
  {
   "cell_type": "markdown",
   "metadata": {
    "deletable": true,
    "editable": true
   },
   "source": [
    "We import the libraries for this notebook"
   ]
  },
  {
   "cell_type": "code",
   "execution_count": 1,
   "metadata": {
    "collapsed": true,
    "deletable": true,
    "editable": true
   },
   "outputs": [],
   "source": [
    "#NumPy - Scientific Computing with Python: http://www.numpy.org/\n",
    "import numpy as np\n",
    "\n",
    "#Pickle - Python object serialization: https://docs.python.org/2/library/pickle.html\n",
    "import pickle\n",
    "\n",
    "#SciKitLearn - Machine Learning in Python: http://scikit-learn.org/\n",
    "from sklearn.cluster import DBSCAN\n",
    "from sklearn import metrics"
   ]
  },
  {
   "cell_type": "markdown",
   "metadata": {
    "deletable": true,
    "editable": true
   },
   "source": [
    "We compare the expected results and the outputs:"
   ]
  },
  {
   "cell_type": "code",
   "execution_count": 2,
   "metadata": {
    "collapsed": true,
    "deletable": true,
    "editable": true
   },
   "outputs": [],
   "source": [
    "expected_clusters = [1,5,6,9,7,2,2,9,8]"
   ]
  },
  {
   "cell_type": "code",
   "execution_count": 3,
   "metadata": {
    "collapsed": false,
    "deletable": true,
    "editable": true
   },
   "outputs": [
    {
     "name": "stdout",
     "output_type": "stream",
     "text": [
      "Training video 0:\n",
      "    Expected clusters: 1\n",
      "    DBScan clusters: 1\n",
      "Training video 1:\n",
      "    Expected clusters: 5\n",
      "    DBScan clusters: 4\n",
      "Training video 2:\n",
      "    Expected clusters: 6\n",
      "    DBScan clusters: 0\n",
      "Training video 3:\n",
      "    Expected clusters: 9\n",
      "    DBScan clusters: 1\n",
      "Training video 4:\n",
      "    Expected clusters: 7\n",
      "    DBScan clusters: 2\n",
      "Training video 5:\n",
      "    Expected clusters: 2\n",
      "    DBScan clusters: 0\n",
      "Training video 6:\n",
      "    Expected clusters: 2\n",
      "    DBScan clusters: 0\n",
      "Training video 7:\n",
      "    Expected clusters: 9\n",
      "    DBScan clusters: 24\n",
      "Training video 8:\n",
      "    Expected clusters: 8\n",
      "    DBScan clusters: 12\n"
     ]
    }
   ],
   "source": [
    "for k in range(9):\n",
    "    data = pickle.load( open( 'data/numpy_arrays/training' + str(k) + '.npy', \"rb\" ) )\n",
    "    db = DBSCAN(eps=6, min_samples=400).fit(data)\n",
    "    labels = db.labels_\n",
    "    n_clusters_ = len(set(labels)) - (1 if -1 in labels else 0)\n",
    "    print(\"Training video \" + str(k) + \":\\n    Expected clusters: {0[0]}\\n    DBScan clusters: {0[1]}\"\n",
    "          .format((expected_clusters[k], n_clusters_)))"
   ]
  },
  {
   "cell_type": "markdown",
   "metadata": {
    "deletable": true,
    "editable": true
   },
   "source": [
    "We calculate the Silhouette Score when possible (`Memory Errror` is possible)"
   ]
  },
  {
   "cell_type": "code",
   "execution_count": null,
   "metadata": {
    "collapsed": false,
    "deletable": true,
    "editable": true
   },
   "outputs": [
    {
     "name": "stdout",
     "output_type": "stream",
     "text": [
      "Silhouette Score for training video 0: 0.901\n"
     ]
    }
   ],
   "source": [
    "for k in range(9):\n",
    "    try:\n",
    "        data = pickle.load( open( 'data/numpy_arrays/training' + str(k) + '.npy', \"rb\" ) )\n",
    "        db = DBSCAN(eps=6, min_samples=400).fit(data)\n",
    "        labels = db.labels_\n",
    "        n_clusters_ = len(set(labels)) - (1 if -1 in labels else 0)\n",
    "        print(\"Silhouette Score for training video \" + str(k) + \": %0.3f\" % metrics.silhouette_score(data, labels))\n",
    "    except:\n",
    "        pass"
   ]
  },
  {
   "cell_type": "markdown",
   "metadata": {
    "deletable": true,
    "editable": true
   },
   "source": [
    "We calculate the Calinski-Harabaz Index when possible (`Memory Errror` is possible)"
   ]
  },
  {
   "cell_type": "code",
   "execution_count": null,
   "metadata": {
    "collapsed": false,
    "deletable": true,
    "editable": true
   },
   "outputs": [
    {
     "name": "stdout",
     "output_type": "stream",
     "text": [
      "Calinski-Harabaz Index for training video 0: 9538.867\n",
      "Calinski-Harabaz Index for training video 1: 94523.407\n",
      "Calinski-Harabaz Index for training video 3: 2315.070\n",
      "Calinski-Harabaz Index for training video 4: 1923.376\n",
      "Calinski-Harabaz Index for training video 7: 6748.531\n"
     ]
    }
   ],
   "source": [
    "for k in range(9):\n",
    "    try:\n",
    "        data = pickle.load( open( 'data/numpy_arrays/training' + str(k) + '.npy', \"rb\" ) )\n",
    "        db = DBSCAN(eps=6, min_samples=400).fit(data)\n",
    "        labels = db.labels_\n",
    "        n_clusters_ = len(set(labels)) - (1 if -1 in labels else 0)\n",
    "        print(\"Calinski-Harabaz Index for training video \" + str(k) + \": %0.3f\" % metrics.calinski_harabaz_score(data, labels))\n",
    "    except:\n",
    "        pass"
   ]
  }
 ],
 "metadata": {
  "kernelspec": {
   "display_name": "Python 2",
   "language": "python",
   "name": "python2"
  },
  "language_info": {
   "codemirror_mode": {
    "name": "ipython",
    "version": 2
   },
   "file_extension": ".py",
   "mimetype": "text/x-python",
   "name": "python",
   "nbconvert_exporter": "python",
   "pygments_lexer": "ipython2",
   "version": "2.7.9"
  }
 },
 "nbformat": 4,
 "nbformat_minor": 2
}
